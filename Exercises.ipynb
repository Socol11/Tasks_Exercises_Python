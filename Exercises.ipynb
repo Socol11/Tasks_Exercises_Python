{
 "cells": [
  {
   "cell_type": "markdown",
   "id": "2acec0e5",
   "metadata": {},
   "source": [
    "## Подсчёт количества вхождений каждого символа в тексте\n",
    "\n",
    "Подсчитать количество вхождений каждого символа в заданном тексте. В результате работы программы должен быть сформирован словарь, ключи которого — символы текста, а значения — количество вхождений символа в тексте."
   ]
  },
  {
   "cell_type": "code",
   "execution_count": 1,
   "id": "82ed3d01",
   "metadata": {},
   "outputs": [
    {
     "name": "stdout",
     "output_type": "stream",
     "text": [
      "{'t': 88, 'h': 63, 'e': 112, 'r': 39, 'a': 70, 'b': 15, 'i': 47, '-': 2, 'o': 80, 'l': 55, 'w': 31, 'n': 57, 's': 60, 'g': 17, 'k': 14, 'u': 22, 'f': 28, 'm': 17, 'y': 18, ',': 13, 'd': 43, 'p': 23, 'c': 9, 'v': 8, '.': 5, 'x': 1, ';': 3, 'j': 2, '`': 3, \"'\": 5, ':': 1, '!': 4, '(': 1, ')': 1}\n"
     ]
    }
   ],
   "source": [
    "text = \"\"\"\n",
    "The rabbit-hole went straight on like a tunnel for some way, and then dipped suddenly down, so suddenly that Alice had not a moment to think about stopping herself before she found herself falling down a very deep well.\n",
    "Either the well was very deep, or she fell very slowly, for she had plenty of time as she went down to look about her and to wonder what was going to happen next. First, she tried to look down and make out what she was coming to, but it was too dark to see anything; then she looked at the sides of the well, and noticed that they were filled with cupboards and book-shelves; here and there she saw maps and pictures hung upon pegs. She took down a jar from one of the shelves as she passed; it was labelled `ORANGE MARMALADE', but to her great disappointment it was empty: she did not like to drop the jar for fear of killing somebody, so managed to put it into one of the cupboards as she fell past it.\n",
    "`Well!' thought Alice to herself, `after such a fall as this, I shall think nothing of tumbling down stairs! How brave they'll all think me at home! Why, I wouldn't say anything about it, even if I fell off the top of the house!' (Which was very likely true.)\n",
    "\"\"\"\n",
    "\n",
    "text = text.lower() #приводим текст к нижнему регистру\n",
    "text = text.replace(\" \", \"\") #заменяем пробелы на пустые строки\n",
    "text = text.replace(\"\\n\", \"\") #заменяем символы переноса строки на пустые строки\n",
    "count_dict = {} #создаём пустой словарь для подсчёта количества символов\n",
    "#создаём цикл по символам в строке text\n",
    "for symbol in text: #symbol — текущий символ в тексте\n",
    "    #проверяем условие, что символа ещё нет среди ключей словаря\n",
    "    if symbol not in count_dict: #если условие выполняется,\n",
    "        count_dict[symbol] = 1 #заносим символ в словарь со значением 1\n",
    "    else: #в противном случае\n",
    "        count_dict[symbol] += 1 #увеличиваем частоту символа\n",
    "print(count_dict) #выводим результирующий словарь"
   ]
  },
  {
   "cell_type": "code",
   "execution_count": null,
   "id": "72fc3faa",
   "metadata": {},
   "outputs": [],
   "source": []
  },
  {
   "cell_type": "markdown",
   "id": "d47830d9",
   "metadata": {},
   "source": [
    "## Подсчёт количества вхождений каждого слова в тексте\n",
    "\n",
    "Подсчитать количество вхождений каждого слова в заданном тексте. В результате работы программы должен быть сформирован словарь, ключи которого — слова текста, а значения — количество вхождений слов в тексте."
   ]
  },
  {
   "cell_type": "code",
   "execution_count": 2,
   "id": "8549d2bb",
   "metadata": {},
   "outputs": [
    {
     "name": "stdout",
     "output_type": "stream",
     "text": [
      "{'she': 3, 'sells': 3, 'sea': 6, 'shells': 6, 'on': 2, 'the': 4, 'shore': 3, 'that': 2, 'are': 2, 'i': 2, 'am': 2, 'sure': 2, 'so': 1, 'if': 1}\n"
     ]
    }
   ],
   "source": [
    "text = \"\"\"\n",
    "She sells sea shells on the sea shore;\n",
    "The shells that she sells are sea shells I am sure.\n",
    "So if she sells sea shells on the sea shore,\n",
    "I am sure that the shells are sea shore shells.\n",
    "\"\"\"\n",
    "text = text.lower() #приводим текст к нижнему регистру\n",
    "text = text.replace(\"\\n\", \" \") #заменяем символы переноса строки на пробел\n",
    "text = text.replace(\",\", \"\") #заменяем запятые на пустые строки\n",
    "text = text.replace(\".\", \"\") #заменяем точки на пустые строки\n",
    "text = text.replace(\";\", \"\") #заменяем точки с запятыми на пустые строки\n",
    "word_list = text.split()\n",
    "count_dict = {} #создаём пустой словарь для подсчёта количества слов\n",
    "#создаём цикл по словам в списке word_list\n",
    "for word in word_list: #word — текущее слово из списка word_list\n",
    "    #проверяем условие, что слова ещё нет среди ключей словаря\n",
    "    if word not in count_dict: #если условие выполняется,\n",
    "        count_dict[word] = 1 #заносим слово в словарь со значением 1\n",
    "    else: #в противном случае\n",
    "        count_dict[word] += 1 #увеличиваем частоту слова\n",
    "print(count_dict) #выводим результирующий словарь"
   ]
  },
  {
   "cell_type": "code",
   "execution_count": null,
   "id": "b6df0ff6",
   "metadata": {},
   "outputs": [],
   "source": []
  },
  {
   "cell_type": "markdown",
   "id": "d9e78516",
   "metadata": {},
   "source": [
    "# Определить максимальный и минимальный элемент в каждой строке матрицы\n",
    "\n",
    "Дана двумерная матрица 3x3 (двумерный массив). Определить максимум и минимум каждой строки, а также их индексы."
   ]
  },
  {
   "cell_type": "code",
   "execution_count": 3,
   "id": "7d78e538",
   "metadata": {},
   "outputs": [
    {
     "name": "stdout",
     "output_type": "stream",
     "text": [
      "Minimal elements: [1, 2, 4]\n",
      "Their indices: [2, 0, 0]\n",
      "Maximal elements: [9, 5, 8]\n",
      "Their indices: [0, 1, 1]\n"
     ]
    }
   ],
   "source": [
    "random_matrix = [\n",
    "   [9, 2, 1],\n",
    "   [2, 5, 3],\n",
    "   [4, 8, 5]\n",
    "]\n",
    "min_value_rows = []\n",
    "min_index_rows = []\n",
    "max_value_rows = []\n",
    "max_index_rows = []\n",
    "for row in random_matrix:\n",
    "    min_index = 0\n",
    "    min_value = row[min_index]\n",
    "    max_index = 0\n",
    "    max_value = row[max_index]\n",
    "    for index_col in range(len(row)):\n",
    "        if row[index_col] < min_value: \n",
    "            min_value = row[index_col]\n",
    "            min_index = index_col\n",
    "        if row[index_col] > max_value: \n",
    "            max_value = row[index_col]\n",
    "            max_index = index_col\n",
    "    min_value_rows.append(min_value)\n",
    "    min_index_rows.append(min_index)\n",
    "    max_value_rows.append(max_value)\n",
    "    max_index_rows.append(max_index)\n",
    "print(\"Minimal elements:\", min_value_rows) # минимальные элементы\n",
    "print(\"Their indices:\", min_index_rows) # их индексы\n",
    "print(\"Maximal elements:\", max_value_rows) # максимальные элементы\n",
    "print(\"Their indices:\", max_index_rows) # их индексы"
   ]
  },
  {
   "cell_type": "code",
   "execution_count": null,
   "id": "4d875674",
   "metadata": {},
   "outputs": [],
   "source": []
  }
 ],
 "metadata": {
  "kernelspec": {
   "display_name": "Python 3 (ipykernel)",
   "language": "python",
   "name": "python3"
  },
  "language_info": {
   "codemirror_mode": {
    "name": "ipython",
    "version": 3
   },
   "file_extension": ".py",
   "mimetype": "text/x-python",
   "name": "python",
   "nbconvert_exporter": "python",
   "pygments_lexer": "ipython3",
   "version": "3.7.3"
  }
 },
 "nbformat": 4,
 "nbformat_minor": 5
}
