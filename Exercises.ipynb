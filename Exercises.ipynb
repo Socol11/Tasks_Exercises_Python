{
 "cells": [
  {
   "cell_type": "markdown",
   "id": "2acec0e5",
   "metadata": {},
   "source": [
    "## Подсчёт количества вхождений каждого символа в тексте\n",
    "\n",
    "Подсчитать количество вхождений каждого символа в заданном тексте. В результате работы программы должен быть сформирован словарь, ключи которого — символы текста, а значения — количество вхождений символа в тексте."
   ]
  },
  {
   "cell_type": "code",
   "execution_count": 1,
   "id": "82ed3d01",
   "metadata": {},
   "outputs": [
    {
     "name": "stdout",
     "output_type": "stream",
     "text": [
      "{'t': 88, 'h': 63, 'e': 112, 'r': 39, 'a': 70, 'b': 15, 'i': 47, '-': 2, 'o': 80, 'l': 55, 'w': 31, 'n': 57, 's': 60, 'g': 17, 'k': 14, 'u': 22, 'f': 28, 'm': 17, 'y': 18, ',': 13, 'd': 43, 'p': 23, 'c': 9, 'v': 8, '.': 5, 'x': 1, ';': 3, 'j': 2, '`': 3, \"'\": 5, ':': 1, '!': 4, '(': 1, ')': 1}\n"
     ]
    }
   ],
   "source": [
    "text = \"\"\"\n",
    "The rabbit-hole went straight on like a tunnel for some way, and then dipped suddenly down, so suddenly that Alice had not a moment to think about stopping herself before she found herself falling down a very deep well.\n",
    "Either the well was very deep, or she fell very slowly, for she had plenty of time as she went down to look about her and to wonder what was going to happen next. First, she tried to look down and make out what she was coming to, but it was too dark to see anything; then she looked at the sides of the well, and noticed that they were filled with cupboards and book-shelves; here and there she saw maps and pictures hung upon pegs. She took down a jar from one of the shelves as she passed; it was labelled `ORANGE MARMALADE', but to her great disappointment it was empty: she did not like to drop the jar for fear of killing somebody, so managed to put it into one of the cupboards as she fell past it.\n",
    "`Well!' thought Alice to herself, `after such a fall as this, I shall think nothing of tumbling down stairs! How brave they'll all think me at home! Why, I wouldn't say anything about it, even if I fell off the top of the house!' (Which was very likely true.)\n",
    "\"\"\"\n",
    "\n",
    "text = text.lower() #приводим текст к нижнему регистру\n",
    "text = text.replace(\" \", \"\") #заменяем пробелы на пустые строки\n",
    "text = text.replace(\"\\n\", \"\") #заменяем символы переноса строки на пустые строки\n",
    "count_dict = {} #создаём пустой словарь для подсчёта количества символов\n",
    "#создаём цикл по символам в строке text\n",
    "for symbol in text: #symbol — текущий символ в тексте\n",
    "    #проверяем условие, что символа ещё нет среди ключей словаря\n",
    "    if symbol not in count_dict: #если условие выполняется,\n",
    "        count_dict[symbol] = 1 #заносим символ в словарь со значением 1\n",
    "    else: #в противном случае\n",
    "        count_dict[symbol] += 1 #увеличиваем частоту символа\n",
    "print(count_dict) #выводим результирующий словарь"
   ]
  },
  {
   "cell_type": "code",
   "execution_count": null,
   "id": "72fc3faa",
   "metadata": {},
   "outputs": [],
   "source": []
  },
  {
   "cell_type": "markdown",
   "id": "d47830d9",
   "metadata": {},
   "source": [
    "## Подсчёт количества вхождений каждого слова в тексте\n",
    "\n",
    "Подсчитать количество вхождений каждого слова в заданном тексте. В результате работы программы должен быть сформирован словарь, ключи которого — слова текста, а значения — количество вхождений слов в тексте."
   ]
  },
  {
   "cell_type": "code",
   "execution_count": 2,
   "id": "8549d2bb",
   "metadata": {},
   "outputs": [
    {
     "name": "stdout",
     "output_type": "stream",
     "text": [
      "{'she': 3, 'sells': 3, 'sea': 6, 'shells': 6, 'on': 2, 'the': 4, 'shore': 3, 'that': 2, 'are': 2, 'i': 2, 'am': 2, 'sure': 2, 'so': 1, 'if': 1}\n"
     ]
    }
   ],
   "source": [
    "text = \"\"\"\n",
    "She sells sea shells on the sea shore;\n",
    "The shells that she sells are sea shells I am sure.\n",
    "So if she sells sea shells on the sea shore,\n",
    "I am sure that the shells are sea shore shells.\n",
    "\"\"\"\n",
    "text = text.lower() #приводим текст к нижнему регистру\n",
    "text = text.replace(\"\\n\", \" \") #заменяем символы переноса строки на пробел\n",
    "text = text.replace(\",\", \"\") #заменяем запятые на пустые строки\n",
    "text = text.replace(\".\", \"\") #заменяем точки на пустые строки\n",
    "text = text.replace(\";\", \"\") #заменяем точки с запятыми на пустые строки\n",
    "word_list = text.split()\n",
    "count_dict = {} #создаём пустой словарь для подсчёта количества слов\n",
    "#создаём цикл по словам в списке word_list\n",
    "for word in word_list: #word — текущее слово из списка word_list\n",
    "    #проверяем условие, что слова ещё нет среди ключей словаря\n",
    "    if word not in count_dict: #если условие выполняется,\n",
    "        count_dict[word] = 1 #заносим слово в словарь со значением 1\n",
    "    else: #в противном случае\n",
    "        count_dict[word] += 1 #увеличиваем частоту слова\n",
    "print(count_dict) #выводим результирующий словарь"
   ]
  },
  {
   "cell_type": "code",
   "execution_count": null,
   "id": "b6df0ff6",
   "metadata": {},
   "outputs": [],
   "source": []
  },
  {
   "cell_type": "markdown",
   "id": "d9e78516",
   "metadata": {},
   "source": [
    "# Определить максимальный и минимальный элемент в каждой строке матрицы\n",
    "\n",
    "Дана двумерная матрица 3x3 (двумерный массив). Определить максимум и минимум каждой строки, а также их индексы."
   ]
  },
  {
   "cell_type": "code",
   "execution_count": 1,
   "id": "7d78e538",
   "metadata": {},
   "outputs": [
    {
     "name": "stdout",
     "output_type": "stream",
     "text": [
      "Minimal elements: [1, 2, 4]\n",
      "Their indices: [2, 0, 0]\n",
      "Maximal elements: [9, 5, 8]\n",
      "Their indices: [0, 1, 1]\n"
     ]
    }
   ],
   "source": [
    "# Создаём исходную матрицу\n",
    "random_matrix = [\n",
    "   [9, 2, 1],\n",
    "   [2, 5, 3],\n",
    "   [4, 8, 5]\n",
    "]\n",
    "\n",
    "# Создаём рабочие пустые списки для заполнения результатами\n",
    "min_value_rows = []\n",
    "min_index_rows = []\n",
    "max_value_rows = []\n",
    "max_index_rows = []\n",
    "\n",
    "#Проходим циклом по матрице (по входящим в неё строкам)\n",
    "for row in random_matrix:\n",
    "    min_index = 0\n",
    "    min_value = row[min_index]\n",
    "    max_index = 0\n",
    "    max_value = row[max_index]\n",
    "    for index_col in range(len(row)): #Проходим циклом по каждой строке матрицы\n",
    "        if row[index_col] < min_value: \n",
    "            min_value = row[index_col]\n",
    "            min_index = index_col\n",
    "        if row[index_col] > max_value: \n",
    "            max_value = row[index_col]\n",
    "            max_index = index_col\n",
    "    \n",
    "    #Добавляем в списки полученные в циклах результаты:\n",
    "    min_value_rows.append(min_value)\n",
    "    min_index_rows.append(min_index)\n",
    "    max_value_rows.append(max_value)\n",
    "    max_index_rows.append(max_index)\n",
    "\n",
    "#Выводим результаты на печать\n",
    "print(\"Minimal elements:\", min_value_rows) # минимальные элементы\n",
    "print(\"Their indices:\", min_index_rows) # их индексы\n",
    "print(\"Maximal elements:\", max_value_rows) # максимальные элементы\n",
    "print(\"Their indices:\", max_index_rows) # их индексы"
   ]
  },
  {
   "cell_type": "code",
   "execution_count": null,
   "id": "4d875674",
   "metadata": {},
   "outputs": [],
   "source": []
  },
  {
   "cell_type": "markdown",
   "id": "065ef825",
   "metadata": {},
   "source": [
    "# Функция возвращает ошибку, если данные некорректны\n",
    "\n",
    "Дана функция add_mark. Дополните её код таким образом, чтобы возникала ошибка ValueError с текстом \"Invalid Mark!\" при попытке поставить оценку не из списка: 2, 3, 4 или 5.\n",
    "\n",
    "Пример:\n",
    "\n",
    "#add_mark('Ivanov', 6)\n",
    "\n",
    "#ValueError: Invalid Mark!"
   ]
  },
  {
   "cell_type": "code",
   "execution_count": 5,
   "id": "cecb9f8a",
   "metadata": {},
   "outputs": [],
   "source": [
    "# Исходная функция\n",
    "def add_mark(name, mark, journal=None):\n",
    "   #Добавьте здесь проверку аргумента mark\n",
    "    if journal is None:\n",
    "        journal = {}\n",
    "    journal[name] = mark\n",
    "    return journal"
   ]
  },
  {
   "cell_type": "code",
   "execution_count": 6,
   "id": "c5fb034b",
   "metadata": {},
   "outputs": [
    {
     "ename": "ValueError",
     "evalue": "Invalid mark!",
     "output_type": "error",
     "traceback": [
      "\u001b[1;31m---------------------------------------------------------------------------\u001b[0m",
      "\u001b[1;31mValueError\u001b[0m                                Traceback (most recent call last)",
      "\u001b[1;32m~\\AppData\\Local\\Temp/ipykernel_16368/1371948558.py\u001b[0m in \u001b[0;36m<module>\u001b[1;34m\u001b[0m\n\u001b[0;32m      9\u001b[0m \u001b[1;33m\u001b[0m\u001b[0m\n\u001b[0;32m     10\u001b[0m \u001b[1;31m# Пробуем добавить некорректную оценку:\u001b[0m\u001b[1;33m\u001b[0m\u001b[1;33m\u001b[0m\u001b[1;33m\u001b[0m\u001b[0m\n\u001b[1;32m---> 11\u001b[1;33m \u001b[0mprint\u001b[0m\u001b[1;33m(\u001b[0m\u001b[0madd_mark\u001b[0m\u001b[1;33m(\u001b[0m\u001b[1;34m'Ivanov'\u001b[0m\u001b[1;33m,\u001b[0m \u001b[1;36m8\u001b[0m\u001b[1;33m)\u001b[0m\u001b[1;33m)\u001b[0m\u001b[1;33m\u001b[0m\u001b[1;33m\u001b[0m\u001b[0m\n\u001b[0m",
      "\u001b[1;32m~\\AppData\\Local\\Temp/ipykernel_16368/1371948558.py\u001b[0m in \u001b[0;36madd_mark\u001b[1;34m(name, mark, journal)\u001b[0m\n\u001b[0;32m      2\u001b[0m \u001b[1;32mdef\u001b[0m \u001b[0madd_mark\u001b[0m\u001b[1;33m(\u001b[0m\u001b[0mname\u001b[0m\u001b[1;33m,\u001b[0m \u001b[0mmark\u001b[0m\u001b[1;33m,\u001b[0m \u001b[0mjournal\u001b[0m\u001b[1;33m=\u001b[0m\u001b[1;32mNone\u001b[0m\u001b[1;33m)\u001b[0m\u001b[1;33m:\u001b[0m\u001b[1;33m\u001b[0m\u001b[1;33m\u001b[0m\u001b[0m\n\u001b[0;32m      3\u001b[0m     \u001b[1;32mif\u001b[0m \u001b[0mmark\u001b[0m \u001b[1;32mnot\u001b[0m \u001b[1;32min\u001b[0m \u001b[1;33m[\u001b[0m\u001b[1;36m2\u001b[0m\u001b[1;33m,\u001b[0m\u001b[1;36m3\u001b[0m\u001b[1;33m,\u001b[0m\u001b[1;36m4\u001b[0m\u001b[1;33m,\u001b[0m\u001b[1;36m5\u001b[0m\u001b[1;33m]\u001b[0m\u001b[1;33m:\u001b[0m\u001b[1;33m\u001b[0m\u001b[1;33m\u001b[0m\u001b[0m\n\u001b[1;32m----> 4\u001b[1;33m         \u001b[1;32mraise\u001b[0m \u001b[0mValueError\u001b[0m\u001b[1;33m(\u001b[0m\u001b[1;34m'Invalid mark!'\u001b[0m\u001b[1;33m)\u001b[0m\u001b[1;33m\u001b[0m\u001b[1;33m\u001b[0m\u001b[0m\n\u001b[0m\u001b[0;32m      5\u001b[0m     \u001b[1;32mif\u001b[0m \u001b[0mjournal\u001b[0m \u001b[1;32mis\u001b[0m \u001b[1;32mNone\u001b[0m\u001b[1;33m:\u001b[0m\u001b[1;33m\u001b[0m\u001b[1;33m\u001b[0m\u001b[0m\n\u001b[0;32m      6\u001b[0m         \u001b[0mjournal\u001b[0m \u001b[1;33m=\u001b[0m \u001b[1;33m{\u001b[0m\u001b[1;33m}\u001b[0m \u001b[1;31m#создаём словарик внутри функции, поскольку это изменяемый объект, кот. нежелательно отправлять в параметрах функции.\u001b[0m\u001b[1;33m\u001b[0m\u001b[1;33m\u001b[0m\u001b[0m\n",
      "\u001b[1;31mValueError\u001b[0m: Invalid mark!"
     ]
    }
   ],
   "source": [
    "# Решение задачи\n",
    "def add_mark(name, mark, journal=None):\n",
    "    if mark not in [2,3,4,5]:\n",
    "        raise ValueError('Invalid mark!')\n",
    "    if journal is None:\n",
    "        journal = {} #создаём словарик внутри функции, поскольку это изменяемый объект, кот. нежелательно отправлять в параметрах функции.\n",
    "    journal[name] = mark\n",
    "    return journal\n",
    "\n",
    "# Пробуем добавить некорректную оценку:\n",
    "print(add_mark('Ivanov', 8))"
   ]
  },
  {
   "cell_type": "code",
   "execution_count": 7,
   "id": "7db9e22e",
   "metadata": {},
   "outputs": [
    {
     "name": "stdout",
     "output_type": "stream",
     "text": [
      "{'Sidorov': 5}\n"
     ]
    }
   ],
   "source": [
    "# Пробуем добавить корректную оценку:\n",
    "print(add_mark('Sidorov', 5))"
   ]
  },
  {
   "cell_type": "code",
   "execution_count": null,
   "id": "96e5eae6",
   "metadata": {},
   "outputs": [],
   "source": []
  }
 ],
 "metadata": {
  "kernelspec": {
   "display_name": "Python 3 (ipykernel)",
   "language": "python",
   "name": "python3"
  },
  "language_info": {
   "codemirror_mode": {
    "name": "ipython",
    "version": 3
   },
   "file_extension": ".py",
   "mimetype": "text/x-python",
   "name": "python",
   "nbconvert_exporter": "python",
   "pygments_lexer": "ipython3",
   "version": "3.7.3"
  }
 },
 "nbformat": 4,
 "nbformat_minor": 5
}
